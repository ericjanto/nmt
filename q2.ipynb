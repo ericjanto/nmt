{
 "cells": [
  {
   "cell_type": "code",
   "execution_count": 25,
   "metadata": {},
   "outputs": [
    {
     "name": "stdout",
     "output_type": "stream",
     "text": [
      "Total tokens in train.en 124031\n",
      "Total tokens in train.de 112572\n",
      "Unique tokens in train.en: 8326\n",
      "Unique tokens in train.de: 12504\n",
      "Number of single tokens in train.en: 3909\n",
      "Number of single tokens in train.de: 7460\n",
      "Number of tokens in train.en when removing single tokens: 120122\n",
      "Number of tokens in train.de when removing single tokens: 105112\n",
      "Unique tokens in train.en when removing single tokens: 4417\n",
      "Unique tokens in train.de when removing single tokens: 5044\n"
     ]
    }
   ],
   "source": [
    "path = 'europarl_raw/'\n",
    "file_names = ['train.en', 'train.de']\n",
    "unique_tokens_en = set()\n",
    "unique_tokens_de = set()\n",
    "token_counts_en = {}\n",
    "token_counts_de = {}\n",
    "for file_name in file_names:\n",
    "    with open(path + file_name, 'r') as file:\n",
    "        num_tokens = 0\n",
    "        for line in file:\n",
    "            tokens = line.strip().split()\n",
    "            num_tokens += len(tokens)\n",
    "            if file_name == 'train.en':\n",
    "                unique_tokens_en.update(tokens)\n",
    "            else:\n",
    "                unique_tokens_de.update(tokens)\n",
    "            for token in tokens:\n",
    "                if file_name == 'train.en':\n",
    "                    token_counts_en[token] = token_counts_en.get(token, 0) + 1\n",
    "                else:\n",
    "                    token_counts_de[token] = token_counts_de.get(token, 0) + 1\n",
    "        print(f'Total tokens in {file_name}', num_tokens)\n",
    "print('Unique tokens in train.en:', len(unique_tokens_en))\n",
    "print('Unique tokens in train.de:', len(unique_tokens_de))\n",
    "\n",
    "num_single_tokens_en = 0\n",
    "num_single_tokens_de = 0\n",
    "for token, count in token_counts_en.items():\n",
    "    if count == 1:\n",
    "        num_single_tokens_en += 1\n",
    "for token, count in token_counts_de.items():\n",
    "    if count == 1:\n",
    "        num_single_tokens_de += 1\n",
    "print('Number of single tokens in train.en:', num_single_tokens_en)\n",
    "print('Number of single tokens in train.de:', num_single_tokens_de)\n",
    "\n",
    "num_tokens_no_single_en = sum([count for _, count in token_counts_en.items() if count > 1])\n",
    "num_tokens_no_single_de = sum([count for _, count in token_counts_de.items() if count > 1])\n",
    "print('Number of tokens in train.en when removing single tokens:', num_tokens_no_single_en)\n",
    "print('Number of tokens in train.de when removing single tokens:', num_tokens_no_single_de)\n",
    "\n",
    "unique_tokens_no_single_en = set([token for token, count in token_counts_en.items() if count > 1])\n",
    "unique_tokens_no_single_de = set([token for token, count in token_counts_de.items() if count > 1])\n",
    "print('Unique tokens in train.en when removing single tokens:', len(unique_tokens_no_single_en))\n",
    "print('Unique tokens in train.de when removing single tokens:', len(unique_tokens_no_single_de)\n",
    ")"
   ]
  },
  {
   "cell_type": "code",
   "execution_count": 26,
   "metadata": {},
   "outputs": [],
   "source": [
    "single_tokens_en = sorted([token for token, count in token_counts_en.items() if count == 1])\n",
    "single_tokens_de = sorted([token for token, count in token_counts_de.items() if count == 1])\n",
    "with open('single_tokens_en.txt', 'w') as file:\n",
    "    for token in single_tokens_en:\n",
    "        file.write(token + '\\n')\n",
    "with open('single_tokens_de.txt', 'w') as file:\n",
    "    for token in single_tokens_de:\n",
    "        file.write(token + '\\n')"
   ]
  },
  {
   "cell_type": "code",
   "execution_count": 30,
   "metadata": {},
   "outputs": [
    {
     "name": "stdout",
     "output_type": "stream",
     "text": [
      "Number of tokens in the intersection of the two languages: 1460\n",
      "Number of tokens in the intersection of the two languages when removing single tokens: 478\n"
     ]
    }
   ],
   "source": [
    "print('Number of tokens in the intersection of the two languages:', len(unique_tokens_en & unique_tokens_de))\n",
    "# Intersect minus single tokens\n",
    "print('Number of tokens in the intersection of the two languages when removing single tokens:', len(unique_tokens_no_single_en & unique_tokens_no_single_de))\n",
    "# save the intersection of the two languages to file:\n",
    "with open('intersection_tokens.txt', 'w') as file:\n",
    "    for token in sorted(unique_tokens_en & unique_tokens_de):\n",
    "        file.write(token + '\\n')"
   ]
  }
 ],
 "metadata": {
  "kernelspec": {
   "display_name": "bioinformatics1-E0XpktVJ-py3.11",
   "language": "python",
   "name": "python3"
  },
  "language_info": {
   "codemirror_mode": {
    "name": "ipython",
    "version": 3
   },
   "file_extension": ".py",
   "mimetype": "text/x-python",
   "name": "python",
   "nbconvert_exporter": "python",
   "pygments_lexer": "ipython3",
   "version": "3.11.5"
  }
 },
 "nbformat": 4,
 "nbformat_minor": 2
}
